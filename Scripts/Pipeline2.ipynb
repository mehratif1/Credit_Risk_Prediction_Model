{
 "cells": [
  {
   "cell_type": "code",
   "execution_count": 21,
   "metadata": {},
   "outputs": [],
   "source": [
    "import pandas as pd\n",
    "import lightgbm as lgb\n",
    "from sklearn.preprocessing import LabelEncoder\n",
    "from sklearn.model_selection import train_test_split\n",
    "from sklearn import metrics\n",
    "from sklearn.metrics import accuracy_score, classification_report\n",
    "from sklearn.metrics import precision_score, recall_score, roc_auc_score, confusion_matrix, log_loss"
   ]
  },
  {
   "cell_type": "code",
   "execution_count": 22,
   "metadata": {},
   "outputs": [],
   "source": [
    "from imblearn.over_sampling import SMOTE\n",
    "from imblearn.under_sampling import RandomUnderSampler\n",
    "from imblearn.pipeline import Pipeline\n",
    "from sklearn.model_selection import train_test_split\n",
    "from lightgbm import LGBMClassifier"
   ]
  },
  {
   "cell_type": "code",
   "execution_count": 3,
   "metadata": {},
   "outputs": [],
   "source": [
    "df1=pd.read_csv(\"/Users/dariareichkina/Projects/Project4/Resources/application_train.csv\")"
   ]
  },
  {
   "cell_type": "code",
   "execution_count": 4,
   "metadata": {},
   "outputs": [],
   "source": [
    "colums_stay = [\"EXT_SOURCE_3\", \"EXT_SOURCE_2\", \"EXT_SOURCE_1\", \"AMT_ANNUITY\", \"DAYS_ID_PUBLISH\", \"DAYS_BIRTH\", \"DAYS_LAST_PHONE_CHANGE\", \"DAYS_REGISTRATION\", \"DAYS_EMPLOYED\", \"AMT_CREDIT\", \"AMT_GOODS_PRICE\", \"TARGET\"]"
   ]
  },
  {
   "cell_type": "code",
   "execution_count": 5,
   "metadata": {},
   "outputs": [],
   "source": [
    "df=df1[colums_stay]"
   ]
  },
  {
   "cell_type": "code",
   "execution_count": 6,
   "metadata": {},
   "outputs": [
    {
     "data": {
      "text/html": [
       "<div>\n",
       "<style scoped>\n",
       "    .dataframe tbody tr th:only-of-type {\n",
       "        vertical-align: middle;\n",
       "    }\n",
       "\n",
       "    .dataframe tbody tr th {\n",
       "        vertical-align: top;\n",
       "    }\n",
       "\n",
       "    .dataframe thead th {\n",
       "        text-align: right;\n",
       "    }\n",
       "</style>\n",
       "<table border=\"1\" class=\"dataframe\">\n",
       "  <thead>\n",
       "    <tr style=\"text-align: right;\">\n",
       "      <th></th>\n",
       "      <th>EXT_SOURCE_3</th>\n",
       "      <th>EXT_SOURCE_2</th>\n",
       "      <th>EXT_SOURCE_1</th>\n",
       "      <th>AMT_ANNUITY</th>\n",
       "      <th>DAYS_ID_PUBLISH</th>\n",
       "      <th>DAYS_BIRTH</th>\n",
       "      <th>DAYS_LAST_PHONE_CHANGE</th>\n",
       "      <th>DAYS_REGISTRATION</th>\n",
       "      <th>DAYS_EMPLOYED</th>\n",
       "      <th>AMT_CREDIT</th>\n",
       "      <th>AMT_GOODS_PRICE</th>\n",
       "      <th>TARGET</th>\n",
       "    </tr>\n",
       "  </thead>\n",
       "  <tbody>\n",
       "    <tr>\n",
       "      <th>0</th>\n",
       "      <td>0.139376</td>\n",
       "      <td>0.262949</td>\n",
       "      <td>0.083037</td>\n",
       "      <td>24700.5</td>\n",
       "      <td>-2120</td>\n",
       "      <td>-9461</td>\n",
       "      <td>-1134.0</td>\n",
       "      <td>-3648.0</td>\n",
       "      <td>-637</td>\n",
       "      <td>406597.5</td>\n",
       "      <td>351000.0</td>\n",
       "      <td>1</td>\n",
       "    </tr>\n",
       "    <tr>\n",
       "      <th>1</th>\n",
       "      <td>NaN</td>\n",
       "      <td>0.622246</td>\n",
       "      <td>0.311267</td>\n",
       "      <td>35698.5</td>\n",
       "      <td>-291</td>\n",
       "      <td>-16765</td>\n",
       "      <td>-828.0</td>\n",
       "      <td>-1186.0</td>\n",
       "      <td>-1188</td>\n",
       "      <td>1293502.5</td>\n",
       "      <td>1129500.0</td>\n",
       "      <td>0</td>\n",
       "    </tr>\n",
       "    <tr>\n",
       "      <th>2</th>\n",
       "      <td>0.729567</td>\n",
       "      <td>0.555912</td>\n",
       "      <td>NaN</td>\n",
       "      <td>6750.0</td>\n",
       "      <td>-2531</td>\n",
       "      <td>-19046</td>\n",
       "      <td>-815.0</td>\n",
       "      <td>-4260.0</td>\n",
       "      <td>-225</td>\n",
       "      <td>135000.0</td>\n",
       "      <td>135000.0</td>\n",
       "      <td>0</td>\n",
       "    </tr>\n",
       "    <tr>\n",
       "      <th>3</th>\n",
       "      <td>NaN</td>\n",
       "      <td>0.650442</td>\n",
       "      <td>NaN</td>\n",
       "      <td>29686.5</td>\n",
       "      <td>-2437</td>\n",
       "      <td>-19005</td>\n",
       "      <td>-617.0</td>\n",
       "      <td>-9833.0</td>\n",
       "      <td>-3039</td>\n",
       "      <td>312682.5</td>\n",
       "      <td>297000.0</td>\n",
       "      <td>0</td>\n",
       "    </tr>\n",
       "    <tr>\n",
       "      <th>4</th>\n",
       "      <td>NaN</td>\n",
       "      <td>0.322738</td>\n",
       "      <td>NaN</td>\n",
       "      <td>21865.5</td>\n",
       "      <td>-3458</td>\n",
       "      <td>-19932</td>\n",
       "      <td>-1106.0</td>\n",
       "      <td>-4311.0</td>\n",
       "      <td>-3038</td>\n",
       "      <td>513000.0</td>\n",
       "      <td>513000.0</td>\n",
       "      <td>0</td>\n",
       "    </tr>\n",
       "    <tr>\n",
       "      <th>5</th>\n",
       "      <td>0.621226</td>\n",
       "      <td>0.354225</td>\n",
       "      <td>NaN</td>\n",
       "      <td>27517.5</td>\n",
       "      <td>-477</td>\n",
       "      <td>-16941</td>\n",
       "      <td>-2536.0</td>\n",
       "      <td>-4970.0</td>\n",
       "      <td>-1588</td>\n",
       "      <td>490495.5</td>\n",
       "      <td>454500.0</td>\n",
       "      <td>0</td>\n",
       "    </tr>\n",
       "    <tr>\n",
       "      <th>6</th>\n",
       "      <td>0.492060</td>\n",
       "      <td>0.724000</td>\n",
       "      <td>0.774761</td>\n",
       "      <td>41301.0</td>\n",
       "      <td>-619</td>\n",
       "      <td>-13778</td>\n",
       "      <td>-1562.0</td>\n",
       "      <td>-1213.0</td>\n",
       "      <td>-3130</td>\n",
       "      <td>1560726.0</td>\n",
       "      <td>1395000.0</td>\n",
       "      <td>0</td>\n",
       "    </tr>\n",
       "    <tr>\n",
       "      <th>7</th>\n",
       "      <td>0.540654</td>\n",
       "      <td>0.714279</td>\n",
       "      <td>NaN</td>\n",
       "      <td>42075.0</td>\n",
       "      <td>-2379</td>\n",
       "      <td>-18850</td>\n",
       "      <td>-1070.0</td>\n",
       "      <td>-4597.0</td>\n",
       "      <td>-449</td>\n",
       "      <td>1530000.0</td>\n",
       "      <td>1530000.0</td>\n",
       "      <td>0</td>\n",
       "    </tr>\n",
       "    <tr>\n",
       "      <th>8</th>\n",
       "      <td>0.751724</td>\n",
       "      <td>0.205747</td>\n",
       "      <td>0.587334</td>\n",
       "      <td>33826.5</td>\n",
       "      <td>-3514</td>\n",
       "      <td>-20099</td>\n",
       "      <td>0.0</td>\n",
       "      <td>-7427.0</td>\n",
       "      <td>365243</td>\n",
       "      <td>1019610.0</td>\n",
       "      <td>913500.0</td>\n",
       "      <td>0</td>\n",
       "    </tr>\n",
       "    <tr>\n",
       "      <th>9</th>\n",
       "      <td>NaN</td>\n",
       "      <td>0.746644</td>\n",
       "      <td>NaN</td>\n",
       "      <td>20250.0</td>\n",
       "      <td>-3992</td>\n",
       "      <td>-14469</td>\n",
       "      <td>-1673.0</td>\n",
       "      <td>-14437.0</td>\n",
       "      <td>-2019</td>\n",
       "      <td>405000.0</td>\n",
       "      <td>405000.0</td>\n",
       "      <td>0</td>\n",
       "    </tr>\n",
       "  </tbody>\n",
       "</table>\n",
       "</div>"
      ],
      "text/plain": [
       "   EXT_SOURCE_3  EXT_SOURCE_2  EXT_SOURCE_1  AMT_ANNUITY  DAYS_ID_PUBLISH  \\\n",
       "0      0.139376      0.262949      0.083037      24700.5            -2120   \n",
       "1           NaN      0.622246      0.311267      35698.5             -291   \n",
       "2      0.729567      0.555912           NaN       6750.0            -2531   \n",
       "3           NaN      0.650442           NaN      29686.5            -2437   \n",
       "4           NaN      0.322738           NaN      21865.5            -3458   \n",
       "5      0.621226      0.354225           NaN      27517.5             -477   \n",
       "6      0.492060      0.724000      0.774761      41301.0             -619   \n",
       "7      0.540654      0.714279           NaN      42075.0            -2379   \n",
       "8      0.751724      0.205747      0.587334      33826.5            -3514   \n",
       "9           NaN      0.746644           NaN      20250.0            -3992   \n",
       "\n",
       "   DAYS_BIRTH  DAYS_LAST_PHONE_CHANGE  DAYS_REGISTRATION  DAYS_EMPLOYED  \\\n",
       "0       -9461                 -1134.0            -3648.0           -637   \n",
       "1      -16765                  -828.0            -1186.0          -1188   \n",
       "2      -19046                  -815.0            -4260.0           -225   \n",
       "3      -19005                  -617.0            -9833.0          -3039   \n",
       "4      -19932                 -1106.0            -4311.0          -3038   \n",
       "5      -16941                 -2536.0            -4970.0          -1588   \n",
       "6      -13778                 -1562.0            -1213.0          -3130   \n",
       "7      -18850                 -1070.0            -4597.0           -449   \n",
       "8      -20099                     0.0            -7427.0         365243   \n",
       "9      -14469                 -1673.0           -14437.0          -2019   \n",
       "\n",
       "   AMT_CREDIT  AMT_GOODS_PRICE  TARGET  \n",
       "0    406597.5         351000.0       1  \n",
       "1   1293502.5        1129500.0       0  \n",
       "2    135000.0         135000.0       0  \n",
       "3    312682.5         297000.0       0  \n",
       "4    513000.0         513000.0       0  \n",
       "5    490495.5         454500.0       0  \n",
       "6   1560726.0        1395000.0       0  \n",
       "7   1530000.0        1530000.0       0  \n",
       "8   1019610.0         913500.0       0  \n",
       "9    405000.0         405000.0       0  "
      ]
     },
     "execution_count": 6,
     "metadata": {},
     "output_type": "execute_result"
    }
   ],
   "source": [
    "df.head(10)"
   ]
  },
  {
   "cell_type": "code",
   "execution_count": 7,
   "metadata": {},
   "outputs": [
    {
     "data": {
      "text/plain": [
       "EXT_SOURCE_3               60965\n",
       "EXT_SOURCE_2                 660\n",
       "EXT_SOURCE_1              173378\n",
       "AMT_ANNUITY                   12\n",
       "DAYS_ID_PUBLISH                0\n",
       "DAYS_BIRTH                     0\n",
       "DAYS_LAST_PHONE_CHANGE         1\n",
       "DAYS_REGISTRATION              0\n",
       "DAYS_EMPLOYED                  0\n",
       "AMT_CREDIT                     0\n",
       "AMT_GOODS_PRICE              278\n",
       "TARGET                         0\n",
       "dtype: int64"
      ]
     },
     "execution_count": 7,
     "metadata": {},
     "output_type": "execute_result"
    }
   ],
   "source": [
    "df.isna().sum()"
   ]
  },
  {
   "cell_type": "code",
   "execution_count": 7,
   "metadata": {},
   "outputs": [
    {
     "data": {
      "text/plain": [
       "EXT_SOURCE_3              float64\n",
       "EXT_SOURCE_2              float64\n",
       "EXT_SOURCE_1              float64\n",
       "AMT_ANNUITY               float64\n",
       "DAYS_ID_PUBLISH             int64\n",
       "DAYS_BIRTH                  int64\n",
       "DAYS_LAST_PHONE_CHANGE    float64\n",
       "DAYS_REGISTRATION         float64\n",
       "DAYS_EMPLOYED               int64\n",
       "AMT_CREDIT                float64\n",
       "AMT_GOODS_PRICE           float64\n",
       "TARGET                      int64\n",
       "dtype: object"
      ]
     },
     "execution_count": 7,
     "metadata": {},
     "output_type": "execute_result"
    }
   ],
   "source": [
    "df.dtypes"
   ]
  },
  {
   "cell_type": "code",
   "execution_count": 8,
   "metadata": {},
   "outputs": [
    {
     "data": {
      "text/plain": [
       "0.5352762504724826"
      ]
     },
     "execution_count": 8,
     "metadata": {},
     "output_type": "execute_result"
    }
   ],
   "source": [
    "df[\"EXT_SOURCE_3\"].median()"
   ]
  },
  {
   "cell_type": "code",
   "execution_count": 9,
   "metadata": {},
   "outputs": [
    {
     "data": {
      "text/plain": [
       "0.5108529061799658"
      ]
     },
     "execution_count": 9,
     "metadata": {},
     "output_type": "execute_result"
    }
   ],
   "source": [
    "df[\"EXT_SOURCE_3\"].mean()"
   ]
  },
  {
   "cell_type": "code",
   "execution_count": 8,
   "metadata": {},
   "outputs": [
    {
     "name": "stderr",
     "output_type": "stream",
     "text": [
      "/var/folders/rb/y3r1w8zs1kg00_cgq7w_sg0w0000gn/T/ipykernel_65077/3835614279.py:1: SettingWithCopyWarning: \n",
      "A value is trying to be set on a copy of a slice from a DataFrame.\n",
      "Try using .loc[row_indexer,col_indexer] = value instead\n",
      "\n",
      "See the caveats in the documentation: https://pandas.pydata.org/pandas-docs/stable/user_guide/indexing.html#returning-a-view-versus-a-copy\n",
      "  df[\"EXT_SOURCE_3\"] = df[\"EXT_SOURCE_3\"].fillna(df[\"EXT_SOURCE_3\"].median())\n"
     ]
    }
   ],
   "source": [
    "df[\"EXT_SOURCE_3\"] = df[\"EXT_SOURCE_3\"].fillna(df[\"EXT_SOURCE_3\"].median())"
   ]
  },
  {
   "cell_type": "code",
   "execution_count": 22,
   "metadata": {},
   "outputs": [
    {
     "data": {
      "text/plain": [
       "EXT_SOURCE_3              0\n",
       "EXT_SOURCE_2              0\n",
       "EXT_SOURCE_1              0\n",
       "AMT_ANNUITY               0\n",
       "DAYS_ID_PUBLISH           0\n",
       "DAYS_BIRTH                0\n",
       "DAYS_LAST_PHONE_CHANGE    0\n",
       "DAYS_REGISTRATION         0\n",
       "DAYS_EMPLOYED             0\n",
       "AMT_CREDIT                0\n",
       "AMT_GOODS_PRICE           0\n",
       "TARGET                    0\n",
       "dtype: int64"
      ]
     },
     "execution_count": 22,
     "metadata": {},
     "output_type": "execute_result"
    }
   ],
   "source": [
    "df.isna().sum()"
   ]
  },
  {
   "cell_type": "code",
   "execution_count": 9,
   "metadata": {},
   "outputs": [
    {
     "data": {
      "text/plain": [
       "0.5659614260608526"
      ]
     },
     "execution_count": 9,
     "metadata": {},
     "output_type": "execute_result"
    }
   ],
   "source": [
    "df[\"EXT_SOURCE_2\"].median()"
   ]
  },
  {
   "cell_type": "code",
   "execution_count": 10,
   "metadata": {},
   "outputs": [
    {
     "name": "stderr",
     "output_type": "stream",
     "text": [
      "/var/folders/rb/y3r1w8zs1kg00_cgq7w_sg0w0000gn/T/ipykernel_65077/4246636549.py:1: SettingWithCopyWarning: \n",
      "A value is trying to be set on a copy of a slice from a DataFrame.\n",
      "Try using .loc[row_indexer,col_indexer] = value instead\n",
      "\n",
      "See the caveats in the documentation: https://pandas.pydata.org/pandas-docs/stable/user_guide/indexing.html#returning-a-view-versus-a-copy\n",
      "  df[\"EXT_SOURCE_2\"] = df[\"EXT_SOURCE_2\"].fillna(df[\"EXT_SOURCE_2\"].median())\n"
     ]
    }
   ],
   "source": [
    "df[\"EXT_SOURCE_2\"] = df[\"EXT_SOURCE_2\"].fillna(df[\"EXT_SOURCE_2\"].median())"
   ]
  },
  {
   "cell_type": "code",
   "execution_count": 11,
   "metadata": {},
   "outputs": [
    {
     "name": "stderr",
     "output_type": "stream",
     "text": [
      "/var/folders/rb/y3r1w8zs1kg00_cgq7w_sg0w0000gn/T/ipykernel_65077/517329733.py:1: SettingWithCopyWarning: \n",
      "A value is trying to be set on a copy of a slice from a DataFrame.\n",
      "Try using .loc[row_indexer,col_indexer] = value instead\n",
      "\n",
      "See the caveats in the documentation: https://pandas.pydata.org/pandas-docs/stable/user_guide/indexing.html#returning-a-view-versus-a-copy\n",
      "  df[\"EXT_SOURCE_1\"] = df[\"EXT_SOURCE_1\"].fillna(df[\"EXT_SOURCE_1\"].median())\n"
     ]
    }
   ],
   "source": [
    "df[\"EXT_SOURCE_1\"] = df[\"EXT_SOURCE_1\"].fillna(df[\"EXT_SOURCE_1\"].median())"
   ]
  },
  {
   "cell_type": "code",
   "execution_count": 12,
   "metadata": {},
   "outputs": [
    {
     "name": "stderr",
     "output_type": "stream",
     "text": [
      "/var/folders/rb/y3r1w8zs1kg00_cgq7w_sg0w0000gn/T/ipykernel_65077/3830314723.py:1: SettingWithCopyWarning: \n",
      "A value is trying to be set on a copy of a slice from a DataFrame.\n",
      "Try using .loc[row_indexer,col_indexer] = value instead\n",
      "\n",
      "See the caveats in the documentation: https://pandas.pydata.org/pandas-docs/stable/user_guide/indexing.html#returning-a-view-versus-a-copy\n",
      "  df[\"AMT_ANNUITY\"] = df[\"AMT_ANNUITY\"].fillna(df[\"AMT_ANNUITY\"].median())\n"
     ]
    }
   ],
   "source": [
    "df[\"AMT_ANNUITY\"] = df[\"AMT_ANNUITY\"].fillna(df[\"AMT_ANNUITY\"].median())"
   ]
  },
  {
   "cell_type": "code",
   "execution_count": 13,
   "metadata": {},
   "outputs": [
    {
     "name": "stderr",
     "output_type": "stream",
     "text": [
      "/var/folders/rb/y3r1w8zs1kg00_cgq7w_sg0w0000gn/T/ipykernel_65077/3432755476.py:1: SettingWithCopyWarning: \n",
      "A value is trying to be set on a copy of a slice from a DataFrame.\n",
      "Try using .loc[row_indexer,col_indexer] = value instead\n",
      "\n",
      "See the caveats in the documentation: https://pandas.pydata.org/pandas-docs/stable/user_guide/indexing.html#returning-a-view-versus-a-copy\n",
      "  df[\"AMT_GOODS_PRICE\"] = df[\"AMT_GOODS_PRICE\"].fillna(df[\"AMT_GOODS_PRICE\"].median())\n"
     ]
    }
   ],
   "source": [
    "df[\"AMT_GOODS_PRICE\"] = df[\"AMT_GOODS_PRICE\"].fillna(df[\"AMT_GOODS_PRICE\"].median())"
   ]
  },
  {
   "cell_type": "code",
   "execution_count": 14,
   "metadata": {},
   "outputs": [
    {
     "name": "stderr",
     "output_type": "stream",
     "text": [
      "/var/folders/rb/y3r1w8zs1kg00_cgq7w_sg0w0000gn/T/ipykernel_65077/181405627.py:1: SettingWithCopyWarning: \n",
      "A value is trying to be set on a copy of a slice from a DataFrame.\n",
      "Try using .loc[row_indexer,col_indexer] = value instead\n",
      "\n",
      "See the caveats in the documentation: https://pandas.pydata.org/pandas-docs/stable/user_guide/indexing.html#returning-a-view-versus-a-copy\n",
      "  df[\"DAYS_LAST_PHONE_CHANGE\"] = df[\"DAYS_LAST_PHONE_CHANGE\"].fillna(df[\"DAYS_LAST_PHONE_CHANGE\"].median())\n"
     ]
    }
   ],
   "source": [
    "df[\"DAYS_LAST_PHONE_CHANGE\"] = df[\"DAYS_LAST_PHONE_CHANGE\"].fillna(df[\"DAYS_LAST_PHONE_CHANGE\"].median())"
   ]
  },
  {
   "cell_type": "code",
   "execution_count": 23,
   "metadata": {},
   "outputs": [
    {
     "data": {
      "text/plain": [
       "(307511, 12)"
      ]
     },
     "execution_count": 23,
     "metadata": {},
     "output_type": "execute_result"
    }
   ],
   "source": [
    "df.shape"
   ]
  },
  {
   "cell_type": "code",
   "execution_count": 15,
   "metadata": {},
   "outputs": [
    {
     "data": {
      "text/plain": [
       "0    0.919271\n",
       "1    0.080729\n",
       "Name: TARGET, dtype: float64"
      ]
     },
     "execution_count": 15,
     "metadata": {},
     "output_type": "execute_result"
    }
   ],
   "source": [
    "df.TARGET.value_counts(normalize=True)"
   ]
  },
  {
   "cell_type": "code",
   "execution_count": 16,
   "metadata": {},
   "outputs": [],
   "source": [
    "df=pd.concat([df[df.TARGET==0].sample(frac=0.15),df[df.TARGET==1]])"
   ]
  },
  {
   "cell_type": "code",
   "execution_count": 26,
   "metadata": {},
   "outputs": [
    {
     "data": {
      "text/plain": [
       "(67228, 12)"
      ]
     },
     "execution_count": 26,
     "metadata": {},
     "output_type": "execute_result"
    }
   ],
   "source": [
    "df.shape"
   ]
  },
  {
   "cell_type": "code",
   "execution_count": 17,
   "metadata": {},
   "outputs": [],
   "source": [
    "X = df.drop(['TARGET'], axis=1)\n",
    "y = df['TARGET']\n",
    "X_train, X_test, y_train, y_test = train_test_split(X, y, test_size=0.25, stratify=y, random_state=42)"
   ]
  },
  {
   "cell_type": "code",
   "execution_count": 18,
   "metadata": {},
   "outputs": [
    {
     "name": "stdout",
     "output_type": "stream",
     "text": [
      "[LightGBM] [Info] Number of positive: 31802, number of negative: 31802\n",
      "[LightGBM] [Info] Auto-choosing col-wise multi-threading, the overhead of testing was 0.001674 seconds.\n",
      "You can set `force_col_wise=true` to remove the overhead.\n",
      "[LightGBM] [Info] Total Bins 2762\n",
      "[LightGBM] [Info] Number of data points in the train set: 63604, number of used features: 11\n",
      "[LightGBM] [Info] [binary:BoostFromScore]: pavg=0.500000 -> initscore=0.000000\n",
      "Accuracy: 0.6739453799012316\n"
     ]
    }
   ],
   "source": [
    "params = {\n",
    "    'boosting_type': 'gbdt',\n",
    "    'metric': ['auc', 'binary_logloss', 'binary_error'],\n",
    "    'learning_rate': 0.1,\n",
    "    'n_estimators':200,\n",
    "    'num_leaves':50,\n",
    "    'max_depth': 50,\n",
    "    'objective': 'binary',\n",
    "    'is_unbalance': True\n",
    "}\n",
    "pipeline = Pipeline([\n",
    "    ('oversample', SMOTE(random_state=42)),  # Oversampling minority class\n",
    "    ('undersample', RandomUnderSampler(random_state=42)),  # Undersampling majority class\n",
    "    ('clf', LGBMClassifier(**params))  # LightGBM classifier\n",
    "])\n",
    "pipeline.fit(X_train, y_train)\n",
    "\n",
    "# Evaluate the model on the test set\n",
    "accuracy = pipeline.score(X_test, y_test)\n",
    "print(\"Accuracy:\", accuracy)\n",
    "\n",
    "#clf = lgb.LGBMClassifier()\n",
    "#clf.fit(X_train,y_train,eval_set=[(X_test,y_test),(X_train,y_train)],)"
   ]
  },
  {
   "cell_type": "code",
   "execution_count": 19,
   "metadata": {},
   "outputs": [
    {
     "name": "stdout",
     "output_type": "stream",
     "text": [
      "              precision    recall  f1-score   support\n",
      "\n",
      "           0       0.76      0.70      0.73     10601\n",
      "           1       0.55      0.62      0.59      6206\n",
      "\n",
      "    accuracy                           0.67     16807\n",
      "   macro avg       0.66      0.66      0.66     16807\n",
      "weighted avg       0.68      0.67      0.68     16807\n",
      "\n"
     ]
    }
   ],
   "source": [
    "print(metrics.classification_report(y_test,pipeline.predict(X_test)))"
   ]
  }
 ],
 "metadata": {
  "kernelspec": {
   "display_name": "dev",
   "language": "python",
   "name": "python3"
  },
  "language_info": {
   "codemirror_mode": {
    "name": "ipython",
    "version": 3
   },
   "file_extension": ".py",
   "mimetype": "text/x-python",
   "name": "python",
   "nbconvert_exporter": "python",
   "pygments_lexer": "ipython3",
   "version": "3.10.12"
  },
  "orig_nbformat": 4
 },
 "nbformat": 4,
 "nbformat_minor": 2
}
